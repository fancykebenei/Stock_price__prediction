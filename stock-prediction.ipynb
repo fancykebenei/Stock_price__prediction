{
 "cells": [
  {
   "cell_type": "markdown",
   "metadata": {},
   "source": [
    "# Stock Prices Prediction Using Keras Long Term Short Memory"
   ]
  },
  {
   "cell_type": "code",
   "execution_count": 85,
   "metadata": {},
   "outputs": [],
   "source": [
    "# Part 1 - Data Preprocessing\n",
    "\n",
    "# Importing the libraries\n",
    "import numpy as np\n",
    "import matplotlib.pyplot as plt\n",
    "import pandas as pd\n",
    "from sklearn.metrics import mean_squared_error\n",
    "import math"
   ]
  },
  {
   "cell_type": "code",
   "execution_count": 2,
   "metadata": {},
   "outputs": [],
   "source": [
    "# Importing the training set\n",
    "dataset_train = pd.read_csv('NSE-TATAGLOBAL.csv')\n",
    "training_set = dataset_train.iloc[:, 1:2].values"
   ]
  },
  {
   "cell_type": "code",
   "execution_count": 21,
   "metadata": {},
   "outputs": [
    {
     "data": {
      "text/html": [
       "<div>\n",
       "<style scoped>\n",
       "    .dataframe tbody tr th:only-of-type {\n",
       "        vertical-align: middle;\n",
       "    }\n",
       "\n",
       "    .dataframe tbody tr th {\n",
       "        vertical-align: top;\n",
       "    }\n",
       "\n",
       "    .dataframe thead th {\n",
       "        text-align: right;\n",
       "    }\n",
       "</style>\n",
       "<table border=\"1\" class=\"dataframe\">\n",
       "  <thead>\n",
       "    <tr style=\"text-align: right;\">\n",
       "      <th></th>\n",
       "      <th>Date</th>\n",
       "      <th>Open</th>\n",
       "      <th>High</th>\n",
       "      <th>Low</th>\n",
       "      <th>Last</th>\n",
       "      <th>Close</th>\n",
       "      <th>Total Trade Quantity</th>\n",
       "      <th>Turnover (Lacs)</th>\n",
       "    </tr>\n",
       "  </thead>\n",
       "  <tbody>\n",
       "    <tr>\n",
       "      <th>0</th>\n",
       "      <td>2018-09-28</td>\n",
       "      <td>234.05</td>\n",
       "      <td>235.95</td>\n",
       "      <td>230.20</td>\n",
       "      <td>233.50</td>\n",
       "      <td>233.75</td>\n",
       "      <td>3069914</td>\n",
       "      <td>7162.35</td>\n",
       "    </tr>\n",
       "    <tr>\n",
       "      <th>1</th>\n",
       "      <td>2018-09-27</td>\n",
       "      <td>234.55</td>\n",
       "      <td>236.80</td>\n",
       "      <td>231.10</td>\n",
       "      <td>233.80</td>\n",
       "      <td>233.25</td>\n",
       "      <td>5082859</td>\n",
       "      <td>11859.95</td>\n",
       "    </tr>\n",
       "    <tr>\n",
       "      <th>2</th>\n",
       "      <td>2018-09-26</td>\n",
       "      <td>240.00</td>\n",
       "      <td>240.00</td>\n",
       "      <td>232.50</td>\n",
       "      <td>235.00</td>\n",
       "      <td>234.25</td>\n",
       "      <td>2240909</td>\n",
       "      <td>5248.60</td>\n",
       "    </tr>\n",
       "    <tr>\n",
       "      <th>3</th>\n",
       "      <td>2018-09-25</td>\n",
       "      <td>233.30</td>\n",
       "      <td>236.75</td>\n",
       "      <td>232.00</td>\n",
       "      <td>236.25</td>\n",
       "      <td>236.10</td>\n",
       "      <td>2349368</td>\n",
       "      <td>5503.90</td>\n",
       "    </tr>\n",
       "    <tr>\n",
       "      <th>4</th>\n",
       "      <td>2018-09-24</td>\n",
       "      <td>233.55</td>\n",
       "      <td>239.20</td>\n",
       "      <td>230.75</td>\n",
       "      <td>234.00</td>\n",
       "      <td>233.30</td>\n",
       "      <td>3423509</td>\n",
       "      <td>7999.55</td>\n",
       "    </tr>\n",
       "  </tbody>\n",
       "</table>\n",
       "</div>"
      ],
      "text/plain": [
       "         Date    Open    High     Low    Last   Close  Total Trade Quantity  \\\n",
       "0  2018-09-28  234.05  235.95  230.20  233.50  233.75               3069914   \n",
       "1  2018-09-27  234.55  236.80  231.10  233.80  233.25               5082859   \n",
       "2  2018-09-26  240.00  240.00  232.50  235.00  234.25               2240909   \n",
       "3  2018-09-25  233.30  236.75  232.00  236.25  236.10               2349368   \n",
       "4  2018-09-24  233.55  239.20  230.75  234.00  233.30               3423509   \n",
       "\n",
       "   Turnover (Lacs)  \n",
       "0          7162.35  \n",
       "1         11859.95  \n",
       "2          5248.60  \n",
       "3          5503.90  \n",
       "4          7999.55  "
      ]
     },
     "execution_count": 21,
     "metadata": {},
     "output_type": "execute_result"
    }
   ],
   "source": [
    "dataset_train.head()\n"
   ]
  },
  {
   "cell_type": "code",
   "execution_count": 41,
   "metadata": {},
   "outputs": [
    {
     "data": {
      "text/plain": [
       "(2035,)"
      ]
     },
     "execution_count": 41,
     "metadata": {},
     "output_type": "execute_result"
    }
   ],
   "source": [
    "df1 = dataset_train.reset_index()['Close']\n",
    "\n",
    "df1.shape"
   ]
  },
  {
   "cell_type": "code",
   "execution_count": 30,
   "metadata": {},
   "outputs": [
    {
     "data": {
      "text/plain": [
       "[<matplotlib.lines.Line2D at 0x19ba7ec6fd0>]"
      ]
     },
     "execution_count": 30,
     "metadata": {},
     "output_type": "execute_result"
    },
    {
     "data": {
      "image/png": "[encoded data removed]",
      "text/plain": [
       "<Figure size 432x288 with 1 Axes>"
      ]
     },
     "metadata": {
      "needs_background": "light"
     },
     "output_type": "display_data"
    }
   ],
   "source": [
    "plt.plot(df1)"
   ]
  },
  {
   "cell_type": "code",
   "execution_count": 57,
   "metadata": {},
   "outputs": [],
   "source": [
    "from sklearn.preprocessing import MinMaxScaler\n",
    "\n",
    "sc = MinMaxScaler(feature_range=(0, 1))\n",
    "df1 = sc.fit_transform(np.array(df1).reshape(-1, 1))"
   ]
  },
  {
   "cell_type": "code",
   "execution_count": 59,
   "metadata": {},
   "outputs": [
    {
     "data": {
      "text/plain": [
       "(2035, 1)"
      ]
     },
     "execution_count": 59,
     "metadata": {},
     "output_type": "execute_result"
    }
   ],
   "source": [
    "df1.shape"
   ]
  },
  {
   "cell_type": "code",
   "execution_count": 64,
   "metadata": {},
   "outputs": [],
   "source": [
    "training_size = int(len(df1)*0.65)\n",
    "test_size = len(df1)- training_size\n",
    "\n",
    "train_data, test_data = df1[0:training_size,:], df1[training_size:len(df1), :1]"
   ]
  },
  {
   "cell_type": "code",
   "execution_count": 65,
   "metadata": {},
   "outputs": [
    {
     "data": {
      "text/plain": [
       "(1322, 713)"
      ]
     },
     "execution_count": 65,
     "metadata": {},
     "output_type": "execute_result"
    }
   ],
   "source": [
    "training_size, test_size"
   ]
  },
  {
   "cell_type": "code",
   "execution_count": 66,
   "metadata": {},
   "outputs": [
    {
     "data": {
      "text/plain": [
       "(1322, 713)"
      ]
     },
     "execution_count": 66,
     "metadata": {},
     "output_type": "execute_result"
    }
   ],
   "source": [
    "len(train_data), len(test_data)"
   ]
  },
  {
   "cell_type": "code",
   "execution_count": 67,
   "metadata": {},
   "outputs": [
    {
     "data": {
      "text/plain": [
       "array([[0.62418301],\n",
       "       [0.62214052],\n",
       "       [0.62622549],\n",
       "       ...,\n",
       "       [0.25347222],\n",
       "       [0.26041667],\n",
       "       [0.2563317 ]])"
      ]
     },
     "execution_count": 67,
     "metadata": {},
     "output_type": "execute_result"
    }
   ],
   "source": [
    "train_data"
   ]
  },
  {
   "cell_type": "code",
   "execution_count": 68,
   "metadata": {},
   "outputs": [],
   "source": [
    "def create_dataset(dataset, time_step=1):\n",
    "    dataX, dataY = [], []\n",
    "    for i in range(len(dataset)-time_step-1):\n",
    "        a = dataset[i:(i+time_step), 0]\n",
    "        dataX.append(a)\n",
    "        dataY.append(dataset[i + time_step, 0])\n",
    "    return np.array(dataX), np.array(dataY)\n",
    "    "
   ]
  },
  {
   "cell_type": "code",
   "execution_count": 69,
   "metadata": {},
   "outputs": [],
   "source": [
    "timestep=100\n",
    "X_train, y_train = create_dataset(train_data, timestep)\n",
    "X_test, y_test = create_dataset(test_data, timestep)"
   ]
  },
  {
   "cell_type": "code",
   "execution_count": 71,
   "metadata": {},
   "outputs": [
    {
     "data": {
      "text/plain": [
       "((1221, 100), (1221,))"
      ]
     },
     "execution_count": 71,
     "metadata": {},
     "output_type": "execute_result"
    }
   ],
   "source": [
    "X_train.shape, y_train.shape"
   ]
  },
  {
   "cell_type": "code",
   "execution_count": 73,
   "metadata": {},
   "outputs": [
    {
     "data": {
      "text/plain": [
       "((612, 100), (612,))"
      ]
     },
     "execution_count": 73,
     "metadata": {},
     "output_type": "execute_result"
    }
   ],
   "source": [
    "X_test.shape, y_test.shape"
   ]
  },
  {
   "cell_type": "code",
   "execution_count": 76,
   "metadata": {},
   "outputs": [],
   "source": [
    "X_train = X_train.reshape(X_train.shape[0], X_train.shape[1], 1)\n",
    "X_test = X_test.reshape(X_test.shape[0], X_test.shape[1], 1)"
   ]
  },
  {
   "cell_type": "code",
   "execution_count": 5,
   "metadata": {},
   "outputs": [],
   "source": [
    "# Creating a data structure with 60 timesteps and 1 output\n",
    "X_train = []\n",
    "y_train = []\n",
    "for i in range(60, 2035):\n",
    "    X_train.append(training_set_scaled[i-60:i, 0])\n",
    "    y_train.append(training_set_scaled[i, 0])\n",
    "X_train, y_train = np.array(X_train), np.array(y_train)"
   ]
  },
  {
   "cell_type": "code",
   "execution_count": null,
   "metadata": {},
   "outputs": [],
   "source": []
  },
  {
   "cell_type": "code",
   "execution_count": 6,
   "metadata": {},
   "outputs": [],
   "source": [
    "# Reshaping\n",
    "X_train = np.reshape(X_train, (X_train.shape[0], X_train.shape[1], 1))"
   ]
  },
  {
   "cell_type": "code",
   "execution_count": 17,
   "metadata": {},
   "outputs": [],
   "source": [
    "# Part 2 - Building the RNN\n",
    "\n",
    "# Importing the Keras libraries and packages\n",
    "from tensorflow.keras.models import Sequential\n",
    "from tensorflow.keras.layers import Dense\n",
    "from tensorflow.keras.layers import LSTM\n",
    "from tensorflow.keras.layers import Dropout\n",
    "from sklearn import metrics"
   ]
  },
  {
   "cell_type": "code",
   "execution_count": 88,
   "metadata": {},
   "outputs": [],
   "source": [
    "# Initialising the RNN\n",
    "model = Sequential()\n",
    "\n",
    "# Adding the first LSTM layer and some Dropout regularisation\n",
    "model.add(LSTM(50, return_sequences = True, input_shape = (X_train.shape[1], 1)))\n",
    "# model.add(Dropout(0.2))\n",
    "\n",
    "model.add(LSTM(50, return_sequences = True))\n",
    "\n",
    "model.add(LSTM(50))\n",
    "\n",
    "model.add(Dense(1))\n",
    "\n",
    "model.compile(optimizer = 'adam', loss = 'mean_squared_error')"
   ]
  },
  {
   "cell_type": "code",
   "execution_count": 89,
   "metadata": {},
   "outputs": [
    {
     "name": "stdout",
     "output_type": "stream",
     "text": [
      "Epoch 1/100\n",
      "20/20 - 5s - loss: 0.0276 - val_loss: 0.0044\n",
      "Epoch 2/100\n",
      "20/20 - 3s - loss: 0.0033 - val_loss: 9.9711e-04\n",
      "Epoch 3/100\n",
      "20/20 - 3s - loss: 0.0022 - val_loss: 0.0011\n",
      "Epoch 4/100\n",
      "20/20 - 3s - loss: 0.0017 - val_loss: 0.0012\n",
      "Epoch 5/100\n",
      "20/20 - 3s - loss: 0.0015 - val_loss: 0.0010\n",
      "Epoch 6/100\n",
      "20/20 - 3s - loss: 0.0015 - val_loss: 0.0013\n",
      "Epoch 7/100\n",
      "20/20 - 3s - loss: 0.0014 - val_loss: 0.0010\n",
      "Epoch 8/100\n",
      "20/20 - 3s - loss: 0.0014 - val_loss: 0.0012\n",
      "Epoch 9/100\n",
      "20/20 - 3s - loss: 0.0013 - val_loss: 0.0011\n",
      "Epoch 10/100\n",
      "20/20 - 3s - loss: 0.0012 - val_loss: 9.4333e-04\n",
      "Epoch 11/100\n",
      "20/20 - 3s - loss: 0.0011 - val_loss: 8.7099e-04\n",
      "Epoch 12/100\n",
      "20/20 - 3s - loss: 0.0011 - val_loss: 9.1451e-04\n",
      "Epoch 13/100\n",
      "20/20 - 3s - loss: 0.0014 - val_loss: 0.0011\n",
      "Epoch 14/100\n",
      "20/20 - 3s - loss: 9.6981e-04 - val_loss: 8.0843e-04\n",
      "Epoch 15/100\n",
      "20/20 - 3s - loss: 9.2886e-04 - val_loss: 9.9191e-04\n",
      "Epoch 16/100\n",
      "20/20 - 3s - loss: 9.9977e-04 - val_loss: 0.0010\n",
      "Epoch 17/100\n",
      "20/20 - 3s - loss: 9.3077e-04 - val_loss: 7.1670e-04\n",
      "Epoch 18/100\n",
      "20/20 - 3s - loss: 0.0010 - val_loss: 5.9186e-04\n",
      "Epoch 19/100\n",
      "20/20 - 3s - loss: 8.1576e-04 - val_loss: 8.6982e-04\n",
      "Epoch 20/100\n",
      "20/20 - 3s - loss: 8.1134e-04 - val_loss: 8.1127e-04\n",
      "Epoch 21/100\n",
      "20/20 - 3s - loss: 7.4294e-04 - val_loss: 8.1387e-04\n",
      "Epoch 22/100\n",
      "20/20 - 3s - loss: 7.6685e-04 - val_loss: 7.2170e-04\n",
      "Epoch 23/100\n",
      "20/20 - 3s - loss: 7.0377e-04 - val_loss: 7.3947e-04\n",
      "Epoch 24/100\n",
      "20/20 - 3s - loss: 7.0803e-04 - val_loss: 6.8565e-04\n",
      "Epoch 25/100\n",
      "20/20 - 3s - loss: 7.0667e-04 - val_loss: 8.8049e-04\n",
      "Epoch 26/100\n",
      "20/20 - 3s - loss: 6.8217e-04 - val_loss: 5.6045e-04\n",
      "Epoch 27/100\n",
      "20/20 - 3s - loss: 7.1793e-04 - val_loss: 8.3121e-04\n",
      "Epoch 28/100\n",
      "20/20 - 3s - loss: 7.6762e-04 - val_loss: 7.3817e-04\n",
      "Epoch 29/100\n",
      "20/20 - 3s - loss: 6.3323e-04 - val_loss: 6.2781e-04\n",
      "Epoch 30/100\n",
      "20/20 - 3s - loss: 5.9758e-04 - val_loss: 7.5074e-04\n",
      "Epoch 31/100\n",
      "20/20 - 3s - loss: 5.8336e-04 - val_loss: 6.6144e-04\n",
      "Epoch 32/100\n",
      "20/20 - 3s - loss: 6.4957e-04 - val_loss: 5.6895e-04\n",
      "Epoch 33/100\n",
      "20/20 - 3s - loss: 7.0016e-04 - val_loss: 5.9462e-04\n",
      "Epoch 34/100\n",
      "20/20 - 3s - loss: 8.2033e-04 - val_loss: 8.1186e-04\n",
      "Epoch 35/100\n",
      "20/20 - 3s - loss: 5.8244e-04 - val_loss: 6.6736e-04\n",
      "Epoch 36/100\n",
      "20/20 - 3s - loss: 5.7584e-04 - val_loss: 6.6525e-04\n",
      "Epoch 37/100\n",
      "20/20 - 3s - loss: 5.3072e-04 - val_loss: 6.5488e-04\n",
      "Epoch 38/100\n",
      "20/20 - 3s - loss: 5.4999e-04 - val_loss: 5.8814e-04\n",
      "Epoch 39/100\n",
      "20/20 - 3s - loss: 5.1259e-04 - val_loss: 4.7028e-04\n",
      "Epoch 40/100\n",
      "20/20 - 3s - loss: 6.2812e-04 - val_loss: 5.6320e-04\n",
      "Epoch 41/100\n",
      "20/20 - 3s - loss: 5.1644e-04 - val_loss: 5.7949e-04\n",
      "Epoch 42/100\n",
      "20/20 - 3s - loss: 5.2652e-04 - val_loss: 5.5621e-04\n",
      "Epoch 43/100\n",
      "20/20 - 3s - loss: 4.8663e-04 - val_loss: 5.1737e-04\n",
      "Epoch 44/100\n",
      "20/20 - 3s - loss: 4.5309e-04 - val_loss: 5.2497e-04\n",
      "Epoch 45/100\n",
      "20/20 - 3s - loss: 4.4601e-04 - val_loss: 4.4350e-04\n",
      "Epoch 46/100\n",
      "20/20 - 3s - loss: 5.8431e-04 - val_loss: 5.2359e-04\n",
      "Epoch 47/100\n",
      "20/20 - 3s - loss: 5.3612e-04 - val_loss: 4.5574e-04\n",
      "Epoch 48/100\n",
      "20/20 - 3s - loss: 4.2718e-04 - val_loss: 4.8515e-04\n",
      "Epoch 49/100\n",
      "20/20 - 3s - loss: 4.4062e-04 - val_loss: 4.4064e-04\n",
      "Epoch 50/100\n",
      "20/20 - 3s - loss: 4.2907e-04 - val_loss: 4.5302e-04\n",
      "Epoch 51/100\n",
      "20/20 - 3s - loss: 4.0067e-04 - val_loss: 4.1260e-04\n",
      "Epoch 52/100\n",
      "20/20 - 3s - loss: 3.9447e-04 - val_loss: 3.8966e-04\n",
      "Epoch 53/100\n",
      "20/20 - 3s - loss: 4.0949e-04 - val_loss: 4.0476e-04\n",
      "Epoch 54/100\n",
      "20/20 - 3s - loss: 3.7839e-04 - val_loss: 5.3438e-04\n",
      "Epoch 55/100\n",
      "20/20 - 3s - loss: 3.9012e-04 - val_loss: 4.4889e-04\n",
      "Epoch 56/100\n",
      "20/20 - 3s - loss: 3.9498e-04 - val_loss: 3.9293e-04\n",
      "Epoch 57/100\n",
      "20/20 - 3s - loss: 4.0150e-04 - val_loss: 4.2220e-04\n",
      "Epoch 58/100\n",
      "20/20 - 3s - loss: 3.5434e-04 - val_loss: 3.8010e-04\n",
      "Epoch 59/100\n",
      "20/20 - 3s - loss: 3.7908e-04 - val_loss: 3.3736e-04\n",
      "Epoch 60/100\n",
      "20/20 - 3s - loss: 3.2723e-04 - val_loss: 3.2092e-04\n",
      "Epoch 61/100\n",
      "20/20 - 3s - loss: 3.7851e-04 - val_loss: 4.3136e-04\n",
      "Epoch 62/100\n",
      "20/20 - 3s - loss: 3.1576e-04 - val_loss: 3.8460e-04\n",
      "Epoch 63/100\n",
      "20/20 - 3s - loss: 3.0463e-04 - val_loss: 3.8219e-04\n",
      "Epoch 64/100\n",
      "20/20 - 3s - loss: 3.6800e-04 - val_loss: 3.8657e-04\n",
      "Epoch 65/100\n",
      "20/20 - 3s - loss: 3.1786e-04 - val_loss: 2.9837e-04\n",
      "Epoch 66/100\n",
      "20/20 - 3s - loss: 3.5361e-04 - val_loss: 4.7695e-04\n",
      "Epoch 67/100\n",
      "20/20 - 3s - loss: 4.0299e-04 - val_loss: 4.6599e-04\n",
      "Epoch 68/100\n",
      "20/20 - 3s - loss: 3.2396e-04 - val_loss: 2.6796e-04\n",
      "Epoch 69/100\n",
      "20/20 - 3s - loss: 2.8050e-04 - val_loss: 3.3761e-04\n",
      "Epoch 70/100\n",
      "20/20 - 3s - loss: 3.1070e-04 - val_loss: 3.8158e-04\n",
      "Epoch 71/100\n",
      "20/20 - 3s - loss: 2.9154e-04 - val_loss: 2.9822e-04\n",
      "Epoch 72/100\n",
      "20/20 - 3s - loss: 2.9459e-04 - val_loss: 2.5197e-04\n",
      "Epoch 73/100\n",
      "20/20 - 3s - loss: 3.3023e-04 - val_loss: 3.3036e-04\n",
      "Epoch 74/100\n",
      "20/20 - 3s - loss: 2.6356e-04 - val_loss: 2.9032e-04\n",
      "Epoch 75/100\n",
      "20/20 - 3s - loss: 2.6460e-04 - val_loss: 3.4592e-04\n",
      "Epoch 76/100\n",
      "20/20 - 3s - loss: 2.9286e-04 - val_loss: 2.6397e-04\n",
      "Epoch 77/100\n",
      "20/20 - 3s - loss: 2.5863e-04 - val_loss: 2.5683e-04\n",
      "Epoch 78/100\n",
      "20/20 - 3s - loss: 2.4924e-04 - val_loss: 2.4253e-04\n",
      "Epoch 79/100\n",
      "20/20 - 3s - loss: 3.7700e-04 - val_loss: 2.4345e-04\n",
      "Epoch 80/100\n",
      "20/20 - 3s - loss: 4.1753e-04 - val_loss: 2.0878e-04\n",
      "Epoch 81/100\n",
      "20/20 - 3s - loss: 2.5813e-04 - val_loss: 4.4677e-04\n",
      "Epoch 82/100\n",
      "20/20 - 3s - loss: 4.3838e-04 - val_loss: 2.6420e-04\n",
      "Epoch 83/100\n",
      "20/20 - 3s - loss: 2.4979e-04 - val_loss: 4.1149e-04\n",
      "Epoch 84/100\n",
      "20/20 - 3s - loss: 3.5868e-04 - val_loss: 2.6393e-04\n",
      "Epoch 85/100\n",
      "20/20 - 3s - loss: 3.3186e-04 - val_loss: 2.1753e-04\n",
      "Epoch 86/100\n",
      "20/20 - 3s - loss: 2.7904e-04 - val_loss: 3.3628e-04\n",
      "Epoch 87/100\n",
      "20/20 - 3s - loss: 2.4748e-04 - val_loss: 2.4121e-04\n",
      "Epoch 88/100\n",
      "20/20 - 3s - loss: 2.3858e-04 - val_loss: 2.1425e-04\n",
      "Epoch 89/100\n",
      "20/20 - 3s - loss: 2.3010e-04 - val_loss: 2.1111e-04\n",
      "Epoch 90/100\n",
      "20/20 - 3s - loss: 3.0896e-04 - val_loss: 2.0096e-04\n",
      "Epoch 91/100\n",
      "20/20 - 3s - loss: 2.4918e-04 - val_loss: 2.3219e-04\n",
      "Epoch 92/100\n",
      "20/20 - 3s - loss: 2.4513e-04 - val_loss: 2.1136e-04\n",
      "Epoch 93/100\n",
      "20/20 - 3s - loss: 2.4240e-04 - val_loss: 3.3289e-04\n",
      "Epoch 94/100\n",
      "20/20 - 3s - loss: 3.2280e-04 - val_loss: 2.3482e-04\n",
      "Epoch 95/100\n",
      "20/20 - 3s - loss: 2.3602e-04 - val_loss: 2.3103e-04\n",
      "Epoch 96/100\n",
      "20/20 - 3s - loss: 2.3675e-04 - val_loss: 2.2492e-04\n",
      "Epoch 97/100\n",
      "20/20 - 3s - loss: 2.2447e-04 - val_loss: 2.1755e-04\n",
      "Epoch 98/100\n",
      "20/20 - 3s - loss: 2.2699e-04 - val_loss: 2.2392e-04\n",
      "Epoch 99/100\n",
      "20/20 - 3s - loss: 2.1902e-04 - val_loss: 2.1291e-04\n",
      "Epoch 100/100\n",
      "20/20 - 3s - loss: 2.4761e-04 - val_loss: 2.0409e-04\n"
     ]
    },
    {
     "data": {
      "text/plain": [
       "<tensorflow.python.keras.callbacks.History at 0x19bc96b5130>"
      ]
     },
     "execution_count": 89,
     "metadata": {},
     "output_type": "execute_result"
    }
   ],
   "source": [
    "model.fit(X_train, y_train, validation_data=(X_test, y_test), epochs = 100, batch_size = 64, verbose=2)\n"
   ]
  },
  {
   "cell_type": "code",
   "execution_count": 90,
   "metadata": {},
   "outputs": [],
   "source": [
    "train_predict = model.predict(X_train)\n",
    "test_predict = model.predict(X_test)"
   ]
  },
  {
   "cell_type": "code",
   "execution_count": 91,
   "metadata": {},
   "outputs": [],
   "source": [
    "train_predict=sc.inverse_transform(train_predict)\n",
    "test_predict=sc.inverse_transform(test_predict)"
   ]
  },
  {
   "cell_type": "code",
   "execution_count": 92,
   "metadata": {},
   "outputs": [
    {
     "data": {
      "text/plain": [
       "0.014734612854809172"
      ]
     },
     "execution_count": 92,
     "metadata": {},
     "output_type": "execute_result"
    }
   ],
   "source": [
    "math.sqrt(mean_squared_error(y_train, train_predict))"
   ]
  },
  {
   "cell_type": "code",
   "execution_count": 93,
   "metadata": {},
   "outputs": [
    {
     "data": {
      "text/plain": [
       "0.014285976043508291"
      ]
     },
     "execution_count": 93,
     "metadata": {},
     "output_type": "execute_result"
    }
   ],
   "source": [
    "math.sqrt(mean_squared_error(y_test, test_predict))"
   ]
  },
  {
   "cell_type": "code",
   "execution_count": 94,
   "metadata": {},
   "outputs": [],
   "source": [
    "# Part 3 - Making the predictions and visualising the results\n",
    "\n",
    "# Getting the real stock price of 2017\n",
    "dataset_test = pd.read_csv('tatatest.csv')\n",
    "real_stock_price = dataset_test.iloc[:, 1:2].values"
   ]
  },
  {
   "cell_type": "code",
   "execution_count": 95,
   "metadata": {},
   "outputs": [],
   "source": [
    "# Getting the predicted stock price of 2017\n",
    "dataset_total = pd.concat((dataset_train['Open'], dataset_test['Open']), axis = 0)\n",
    "inputs = dataset_total[len(dataset_total) - len(dataset_test) - 60:].values\n",
    "inputs = inputs.reshape(-1,1)\n",
    "inputs = sc.transform(inputs)\n",
    "X_test = []\n",
    "for i in range(60, 76):\n",
    "    X_test.append(inputs[i-60:i, 0])\n",
    "X_test = np.array(X_test)\n",
    "X_test = np.reshape(X_test, (X_test.shape[0], X_test.shape[1], 1))\n",
    "predicted_stock_price = regressor.predict(X_test)\n",
    "predicted_stock_price = sc.inverse_transform(predicted_stock_price)\n"
   ]
  },
  {
   "cell_type": "code",
   "execution_count": null,
   "metadata": {},
   "outputs": [],
   "source": []
  },
  {
   "cell_type": "code",
   "execution_count": null,
   "metadata": {},
   "outputs": [],
   "source": []
  },
  {
   "cell_type": "code",
   "execution_count": null,
   "metadata": {},
   "outputs": [],
   "source": []
  },
  {
   "cell_type": "code",
   "execution_count": 16,
   "metadata": {},
   "outputs": [
    {
     "data": {
      "image/png": "[encoded data removed]",
      "text/plain": [
       "<Figure size 432x288 with 1 Axes>"
      ]
     },
     "metadata": {
      "needs_background": "light"
     },
     "output_type": "display_data"
    }
   ],
   "source": [
    "# Visualising the results\n",
    "plt.plot(real_stock_price, color = 'red', label = 'Real TATA Stock Price')\n",
    "plt.plot(predicted_stock_price, color = 'blue', label = 'Predicted TAT Stock Price')\n",
    "plt.title('TATA Stock Price Prediction')\n",
    "plt.xlabel('Time')\n",
    "plt.ylabel('TATA Stock Price')\n",
    "plt.legend()\n",
    "plt.show()"
   ]
  },
  {
   "cell_type": "code",
   "execution_count": null,
   "metadata": {},
   "outputs": [],
   "source": []
  }
 ],
 "metadata": {
  "kernelspec": {
   "display_name": "Python 3",
   "language": "python",
   "name": "python3"
  },
  "language_info": {
   "codemirror_mode": {
    "name": "ipython",
    "version": 3
   },
   "file_extension": ".py",
   "mimetype": "text/x-python",
   "name": "python",
   "nbconvert_exporter": "python",
   "pygments_lexer": "ipython3",
   "version": "3.8.5"
  }
 },
 "nbformat": 4,
 "nbformat_minor": 2
}
